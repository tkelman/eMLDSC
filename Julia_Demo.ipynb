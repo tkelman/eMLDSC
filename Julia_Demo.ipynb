{
 "cells": [
  {
   "cell_type": "markdown",
   "metadata": {},
   "source": [
    "## Julia language demo\n",
    "\n",
    "### Tony Kelman, Mar 2nd 2016, eMLDSC\n",
    "\n",
    "https://github.com/tkelman/eMLDSC\n",
    "\n",
    "http://julialang.org, https://juliabox.org, http://juliacomputing.com"
   ]
  },
  {
   "cell_type": "markdown",
   "metadata": {},
   "source": [
    "## 2-language problem: performance OR productivity\n",
    "\n",
    "- C, C++, or Java for performance\n",
    "- Python, R, or Matlab for productivity\n",
    "\n",
    "Julia: new (but familiar) language, best of both worlds\n",
    "\n",
    "![Performance relative to C](benchmarks_time.png)\n",
    "Microbenchmark performance, time relative to C\n",
    "\n",
    "![Performance and code size](benchmarks_codesize.png)"
   ]
  },
  {
   "cell_type": "markdown",
   "metadata": {
    "collapsed": true
   },
   "source": [
    "### Intro syntax example - Dual Numbers\n",
    "\n",
    "Of the form $a + b ε$, similar to complex numbers but with $ε² = 0$ instead of $i² = -1$"
   ]
  },
  {
   "cell_type": "code",
   "execution_count": 1,
   "metadata": {
    "collapsed": false
   },
   "outputs": [],
   "source": [
    "# type => by-reference semantics,\n",
    "# immutable => by-value semantics\n",
    "immutable DualNumber{T}\n",
    "    value::T\n",
    "    epsilon::T\n",
    "end\n",
    "# type parameter {T} constrains typeof(value) == typeof(epsilon)"
   ]
  },
  {
   "cell_type": "code",
   "execution_count": 2,
   "metadata": {
    "collapsed": false
   },
   "outputs": [
    {
     "data": {
      "text/plain": [
       "* (generic function with 139 methods)"
      ]
     },
     "execution_count": 2,
     "metadata": {},
     "output_type": "execute_result"
    }
   ],
   "source": [
    "# import addition and multiplication from Base to extend them with new methods\n",
    "import Base: +, *\n",
    "# one-liner function definition:\n",
    "+(x::DualNumber, y::DualNumber) = DualNumber(x.value + y.value, x.epsilon + y.epsilon)\n",
    "# longer form function definition:\n",
    "function *(x::DualNumber, y::DualNumber)\n",
    "    return DualNumber(x.value * y.value, x.value * y.epsilon + y.value * x.epsilon)\n",
    "end"
   ]
  },
  {
   "cell_type": "code",
   "execution_count": 3,
   "metadata": {
    "collapsed": false
   },
   "outputs": [
    {
     "data": {
      "text/plain": [
       "DualNumber{Int64}(1,2)"
      ]
     },
     "execution_count": 3,
     "metadata": {},
     "output_type": "execute_result"
    }
   ],
   "source": [
    "# compare LLVM and native code generated for DualNumber{Int64} vs DualNumber{Float64}\n",
    "x_i64 = DualNumber(1, 2)"
   ]
  },
  {
   "cell_type": "code",
   "execution_count": 4,
   "metadata": {
    "collapsed": false
   },
   "outputs": [
    {
     "data": {
      "text/plain": [
       "DualNumber{Int64}(3,4)"
      ]
     },
     "execution_count": 4,
     "metadata": {},
     "output_type": "execute_result"
    }
   ],
   "source": [
    "y_i64 = DualNumber(3, 4)"
   ]
  },
  {
   "cell_type": "code",
   "execution_count": 5,
   "metadata": {
    "collapsed": false
   },
   "outputs": [
    {
     "name": "stdout",
     "output_type": "stream",
     "text": [
      "\n",
      "define void @\"julia_*_1478\"(%DualNumber* sret, %DualNumber*, %DualNumber*) {\n",
      "top:\n",
      "  %3 = load %DualNumber* %1, align 8\n",
      "  %4 = extractvalue %DualNumber %3, 0\n",
      "  %5 = extractvalue %DualNumber %3, 1\n",
      "  %6 = load %DualNumber* %2, align 8\n",
      "  %7 = extractvalue %DualNumber %6, 0\n",
      "  %8 = extractvalue %DualNumber %6, 1\n",
      "  %9 = mul i64 %7, %4\n",
      "  %10 = insertvalue %DualNumber undef, i64 %9, 0\n",
      "  %11 = mul i64 %8, %4\n",
      "  %12 = mul i64 %7, %5\n",
      "  %13 = add i64 %11, %12\n",
      "  %14 = insertvalue %DualNumber %10, i64 %13, 1\n",
      "  store %DualNumber %14, %DualNumber* %0, align 8\n",
      "  ret void\n",
      "}\n"
     ]
    }
   ],
   "source": [
    "@code_llvm x_i64 * y_i64"
   ]
  },
  {
   "cell_type": "code",
   "execution_count": 6,
   "metadata": {
    "collapsed": false
   },
   "outputs": [
    {
     "name": "stdout",
     "output_type": "stream",
     "text": [
      "\t.text\n",
      "Filename: In[2]\n",
      "Source line: 7\n",
      "\tpushq\t%rbp\n",
      "\tmovq\t%rsp, %rbp\n",
      "Source line: 7\n",
      "\tmovq\t(%rdx), %r9\n",
      "\tmovq\t8(%r8), %r10\n",
      "Source line: 7\n",
      "\timulq\t%r9, %r10\n",
      "Source line: 7\n",
      "\tmovq\t(%r8), %rax\n",
      "\tmovq\t8(%rdx), %rdx\n",
      "Source line: 7\n",
      "\timulq\t%rax, %rdx\n",
      "\timulq\t%r9, %rax\n",
      "\tmovq\t%rax, (%rcx)\n",
      "\taddq\t%r10, %rdx\n",
      "\tmovq\t%rdx, 8(%rcx)\n",
      "\tmovq\t%rcx, %rax\n",
      "\tpopq\t%rbp\n",
      "\tret\n"
     ]
    }
   ],
   "source": [
    "@code_native x_i64 * y_i64"
   ]
  },
  {
   "cell_type": "code",
   "execution_count": 7,
   "metadata": {
    "collapsed": false
   },
   "outputs": [
    {
     "data": {
      "text/plain": [
       "DualNumber{Float64}(1.0,2.0)"
      ]
     },
     "execution_count": 7,
     "metadata": {},
     "output_type": "execute_result"
    }
   ],
   "source": [
    "x_f64 = DualNumber(1.0, 2.0)"
   ]
  },
  {
   "cell_type": "code",
   "execution_count": 8,
   "metadata": {
    "collapsed": false
   },
   "outputs": [
    {
     "data": {
      "text/plain": [
       "DualNumber{Float64}(3.0,4.0)"
      ]
     },
     "execution_count": 8,
     "metadata": {},
     "output_type": "execute_result"
    }
   ],
   "source": [
    "y_f64 = DualNumber(3.0, 4.0)"
   ]
  },
  {
   "cell_type": "code",
   "execution_count": 9,
   "metadata": {
    "collapsed": false
   },
   "outputs": [
    {
     "name": "stdout",
     "output_type": "stream",
     "text": [
      "\n",
      "define void @\"julia_*_1588\"(%DualNumber.8* sret, %DualNumber.8*, %DualNumber.8*) {\n",
      "top:\n",
      "  %3 = load %DualNumber.8* %1, align 8\n",
      "  %4 = extractvalue %DualNumber.8 %3, 0\n",
      "  %5 = extractvalue %DualNumber.8 %3, 1\n",
      "  %6 = load %DualNumber.8* %2, align 8\n",
      "  %7 = extractvalue %DualNumber.8 %6, 0\n",
      "  %8 = extractvalue %DualNumber.8 %6, 1\n",
      "  %9 = fmul double %4, %7\n",
      "  %10 = insertvalue %DualNumber.8 undef, double %9, 0\n",
      "  %11 = fmul double %4, %8\n",
      "  %12 = fmul double %5, %7\n",
      "  %13 = fadd double %11, %12\n",
      "  %14 = insertvalue %DualNumber.8 %10, double %13, 1\n",
      "  store %DualNumber.8 %14, %DualNumber.8* %0, align 8\n",
      "  ret void\n",
      "}\n"
     ]
    }
   ],
   "source": [
    "@code_llvm x_f64 * y_f64"
   ]
  },
  {
   "cell_type": "code",
   "execution_count": 10,
   "metadata": {
    "collapsed": false
   },
   "outputs": [
    {
     "name": "stdout",
     "output_type": "stream",
     "text": [
      "\t.text\n",
      "Filename: In[2]\n",
      "Source line: 7\n",
      "\tpushq\t%rbp\n",
      "\tmovq\t%rsp, %rbp\n",
      "Source line: 7\n",
      "\tmovsd\t(%rdx), %xmm1\n",
      "\tmovsd\t8(%r8), %xmm0\n",
      "Source line: 7\n",
      "\tmulsd\t%xmm1, %xmm0\n",
      "Source line: 7\n",
      "\tmovsd\t(%r8), %xmm2\n",
      "Source line: 7\n",
      "\tmulsd\t%xmm2, %xmm1\n",
      "\tmulsd\t8(%rdx), %xmm2\n",
      "\tmovsd\t%xmm1, (%rcx)\n",
      "\taddsd\t%xmm0, %xmm2\n",
      "\tmovsd\t%xmm2, 8(%rcx)\n",
      "\tmovq\t%rcx, %rax\n",
      "\tpopq\t%rbp\n",
      "\tret\n"
     ]
    }
   ],
   "source": [
    "@code_native x_f64 * y_f64"
   ]
  },
  {
   "cell_type": "code",
   "execution_count": 14,
   "metadata": {
    "collapsed": false
   },
   "outputs": [
    {
     "data": {
      "text/plain": [
       "DualNumber{Float64}(2.0,2.0)"
      ]
     },
     "execution_count": 14,
     "metadata": {},
     "output_type": "execute_result"
    }
   ],
   "source": [
    "+(a::DualNumber, b::Number) = DualNumber(a.value + b, a.epsilon)\n",
    "#+(b::Number, a::DualNumber) = DualNumber(a.value + b, a.epsilon)\n",
    "#1 + DualNumber(1.0, 2.0)"
   ]
  },
  {
   "cell_type": "code",
   "execution_count": 16,
   "metadata": {
    "collapsed": false
   },
   "outputs": [
    {
     "data": {
      "text/plain": [
       "1+2ε"
      ]
     },
     "execution_count": 16,
     "metadata": {},
     "output_type": "execute_result"
    }
   ],
   "source": [
    "# custom printing for a type can be achieved by extending the `show` function:\n",
    "function Base.show(io::IO, x::DualNumber)\n",
    "    print(io, string(x.value, \"+\", x.epsilon, \"ε\"))\n",
    "end\n",
    "DualNumber(1, 2)"
   ]
  },
  {
   "cell_type": "code",
   "execution_count": 17,
   "metadata": {
    "collapsed": false
   },
   "outputs": [
    {
     "data": {
      "text/plain": [
       "zero (generic function with 14 methods)"
      ]
     },
     "execution_count": 17,
     "metadata": {},
     "output_type": "execute_result"
    }
   ],
   "source": [
    "# To use DualNumber in linear algebra operations, just need to define `zero` value\n",
    "Base.zero{T}(::Type{DualNumber{T}}) = DualNumber(zero(T), zero(T))"
   ]
  },
  {
   "cell_type": "code",
   "execution_count": 18,
   "metadata": {
    "collapsed": false
   },
   "outputs": [
    {
     "data": {
      "text/plain": [
       "6x4 Array{DualNumber{Int64},2}:\n",
       " 9+10ε  4+2ε  6+10ε  10+2ε\n",
       " 4+2ε   3+1ε  9+6ε   8+1ε \n",
       " 5+10ε  5+3ε  7+3ε   4+6ε \n",
       " 6+5ε   4+2ε  8+1ε   4+4ε \n",
       " 8+6ε   2+6ε  1+5ε   1+6ε \n",
       " 1+4ε   8+8ε  1+2ε   6+5ε "
      ]
     },
     "execution_count": 18,
     "metadata": {},
     "output_type": "execute_result"
    }
   ],
   "source": [
    "values1 = rand(1:10, 6, 4);\n",
    "epsilon1 = rand(1:10, 6, 4);\n",
    "dualmat1 = map(DualNumber, values1, epsilon1)"
   ]
  },
  {
   "cell_type": "code",
   "execution_count": 19,
   "metadata": {
    "collapsed": false
   },
   "outputs": [
    {
     "data": {
      "text/plain": [
       "4x3 Array{DualNumber{Int64},2}:\n",
       " 10+10ε  10+3ε  1+4ε\n",
       " 5+9ε    8+2ε   8+4ε\n",
       " 9+7ε    3+3ε   3+6ε\n",
       " 6+1ε    4+7ε   7+4ε"
      ]
     },
     "execution_count": 19,
     "metadata": {},
     "output_type": "execute_result"
    }
   ],
   "source": [
    "values2 = rand(1:10, 4, 3);\n",
    "epsilon2 = rand(1:10, 4, 3);\n",
    "dualmat2 = map(DualNumber, values2, epsilon2)"
   ]
  },
  {
   "cell_type": "code",
   "execution_count": 20,
   "metadata": {
    "collapsed": false
   },
   "outputs": [
    {
     "data": {
      "text/plain": [
       "6x3 Array{DualNumber{Int64},2}:\n",
       " 224+390ε  180+277ε  129+198ε\n",
       " 184+223ε  123+151ε  111+149ε\n",
       " 162+326ε  127+231ε  94+183ε \n",
       " 176+249ε  132+163ε  90+156ε \n",
       " 105+277ε  103+185ε  34+161ε \n",
       " 95+223ε   101+194ε  110+175ε"
      ]
     },
     "execution_count": 20,
     "metadata": {},
     "output_type": "execute_result"
    }
   ],
   "source": [
    "# matrix multiplication\n",
    "dualmat1 * dualmat2"
   ]
  },
  {
   "cell_type": "code",
   "execution_count": 21,
   "metadata": {
    "collapsed": false
   },
   "outputs": [
    {
     "data": {
      "text/plain": [
       "6x4 Array{DualNumber{Int64},2}:\n",
       " 81+180ε  16+16ε   36+120ε  100+40ε\n",
       " 16+16ε   9+6ε     81+108ε  64+16ε \n",
       " 25+100ε  25+30ε   49+42ε   16+48ε \n",
       " 36+60ε   16+16ε   64+16ε   16+32ε \n",
       " 64+96ε   4+24ε    1+10ε    1+12ε  \n",
       " 1+8ε     64+128ε  1+4ε     36+60ε "
      ]
     },
     "execution_count": 21,
     "metadata": {},
     "output_type": "execute_result"
    }
   ],
   "source": [
    "# elementwise multiplication\n",
    "dualmat1 .* dualmat1"
   ]
  },
  {
   "cell_type": "code",
   "execution_count": 23,
   "metadata": {
    "collapsed": false
   },
   "outputs": [
    {
     "data": {
      "text/plain": [
       "0.8414709848078965"
      ]
     },
     "execution_count": 23,
     "metadata": {},
     "output_type": "execute_result"
    }
   ],
   "source": [
    "# calling into C libraries\n",
    "ccall(:sin, Float64, (Float64,), 1.0)"
   ]
  },
  {
   "cell_type": "code",
   "execution_count": 24,
   "metadata": {
    "collapsed": false
   },
   "outputs": [
    {
     "data": {
      "text/plain": [
       "\"Hello from C sprintf!\\n\""
      ]
     },
     "execution_count": 24,
     "metadata": {},
     "output_type": "execute_result"
    }
   ],
   "source": [
    "buffer = Array(UInt8, 25)\n",
    "ccall(:sprintf, Void, (Ptr{UInt8}, Ptr{UInt8}, Ptr{UInt8}), buffer, \"%s\\n\", \"Hello from C sprintf!\")\n",
    "len = ccall(:strlen, Cint, (Ptr{UInt8},), buffer)\n",
    "bytestring(pointer(buffer), len)"
   ]
  },
  {
   "cell_type": "code",
   "execution_count": 26,
   "metadata": {
    "collapsed": false
   },
   "outputs": [
    {
     "name": "stderr",
     "output_type": "stream",
     "text": [
      "INFO: Nothing to be done\n"
     ]
    },
    {
     "data": {
      "text/plain": [
       "0.31675082877125116"
      ]
     },
     "execution_count": 26,
     "metadata": {},
     "output_type": "execute_result"
    }
   ],
   "source": [
    "# calling into Python libraries - https://github.com/stevengj/PyCall.jl\n",
    "Pkg.add(\"PyCall\")\n",
    "using PyCall\n",
    "@pyimport scipy.optimize as so\n",
    "# (see http://www.juliaopt.org for Julia optimization packages)\n",
    "so.newton(x -> cos(x) - 3x, 1)"
   ]
  },
  {
   "cell_type": "code",
   "execution_count": 27,
   "metadata": {
    "collapsed": false
   },
   "outputs": [
    {
     "name": "stdout",
     "output_type": "stream",
     "text": [
      "Expr \n",
      "  head: Symbol call\n",
      "  args: Array(Any,(3,))\n",
      "    1: Symbol -\n",
      "    2: Expr \n",
      "      head: Symbol call\n",
      "      args: Array(Any,(2,))\n",
      "        1: Symbol cos\n",
      "        2: Symbol x\n",
      "      typ: Any\n",
      "    3: Expr \n",
      "      head: Symbol call\n",
      "      args: Array(Any,(3,))\n",
      "        1: Symbol *\n",
      "        2: Int64 3\n",
      "        3: Symbol x\n",
      "      typ: Any\n",
      "  typ: Any\n"
     ]
    }
   ],
   "source": [
    "# access, and modify, the syntax tree of code as a data structure\n",
    "ex = :(cos(x) - 3x)\n",
    "dump(ex)"
   ]
  },
  {
   "cell_type": "code",
   "execution_count": 28,
   "metadata": {
    "collapsed": false
   },
   "outputs": [
    {
     "name": "stdout",
     "output_type": "stream",
     "text": [
      ":(cos(x) * (3x))"
     ]
    }
   ],
   "source": [
    "# macros begin with @, take expression structure of input,\n",
    "# modify and return a different expression to execute\n",
    "ex2 = copy(ex)\n",
    "ex2.args[1] = :*\n",
    "show(ex2)"
   ]
  },
  {
   "cell_type": "code",
   "execution_count": 29,
   "metadata": {
    "collapsed": false
   },
   "outputs": [
    {
     "data": {
      "text/plain": [
       "1.6209069176044193"
      ]
     },
     "execution_count": 29,
     "metadata": {},
     "output_type": "execute_result"
    }
   ],
   "source": [
    "macro multiply(foo)\n",
    "    foo.args[1] = :*\n",
    "    return foo\n",
    "end\n",
    "@multiply cos(1) - 3"
   ]
  },
  {
   "cell_type": "code",
   "execution_count": 30,
   "metadata": {
    "collapsed": false
   },
   "outputs": [
    {
     "data": {
      "text/plain": [
       "-2.4596976941318602"
      ]
     },
     "execution_count": 30,
     "metadata": {},
     "output_type": "execute_result"
    }
   ],
   "source": [
    "cos(1) - 3"
   ]
  },
  {
   "cell_type": "code",
   "execution_count": 31,
   "metadata": {
    "collapsed": false
   },
   "outputs": [
    {
     "data": {
      "text/plain": [
       "1.6209069176044193"
      ]
     },
     "execution_count": 31,
     "metadata": {},
     "output_type": "execute_result"
    }
   ],
   "source": [
    "cos(1) * 3"
   ]
  },
  {
   "cell_type": "code",
   "execution_count": null,
   "metadata": {
    "collapsed": true
   },
   "outputs": [],
   "source": []
  }
 ],
 "metadata": {
  "kernelspec": {
   "display_name": "Julia 0.4.3",
   "language": "julia",
   "name": "julia-0.4"
  },
  "language_info": {
   "file_extension": ".jl",
   "mimetype": "application/julia",
   "name": "julia",
   "version": "0.4.3"
  }
 },
 "nbformat": 4,
 "nbformat_minor": 0
}
